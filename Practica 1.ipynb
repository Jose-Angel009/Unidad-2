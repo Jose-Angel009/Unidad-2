{
  "nbformat": 4,
  "nbformat_minor": 0,
  "metadata": {
    "colab": {
      "provenance": [],
      "authorship_tag": "ABX9TyPXVgU2cNs1a4GtqS58RoF1",
      "include_colab_link": true
    },
    "kernelspec": {
      "name": "python3",
      "display_name": "Python 3"
    },
    "language_info": {
      "name": "python"
    }
  },
  "cells": [
    {
      "cell_type": "markdown",
      "metadata": {
        "id": "view-in-github",
        "colab_type": "text"
      },
      "source": [
        "<a href=\"https://colab.research.google.com/github/Jose-Angel009/Unidad-2/blob/main/Practica%201.ipynb\" target=\"_parent\"><img src=\"https://colab.research.google.com/assets/colab-badge.svg\" alt=\"Open In Colab\"/></a>"
      ]
    },
    {
      "cell_type": "markdown",
      "source": [
        "Actividad 2\n",
        "¿Que es pandas en python?\n",
        "Pandas es una libreria o biblioteca de python que se utiliza para trabajar con conjunto de datos, tienen funciones para analizar ,limpiar,explorar y manipular datos.\n",
        "El nombree PANDAS hace refeencia a panel data y python data fue creado en 2008.\n",
        "\n",
        "¿Porque utilizan pandas?\n",
        "Pandas nos permite analizar big data y sacar concluciones basadas en teorias estadisticas. Los pandas pueden limpiar conjuntos de datos y hacer legibles  y relevantes .Los datos relevantes  son muy importantes en la ciencia de datos.\n",
        "¿Que podemos hacer con pandas?\n",
        "\n",
        "1 Saber si existe correlacion entre 2 o mas columnas.\n",
        "2 ¿Cual es el valor promedio?\n",
        "3 Valor maximo\n",
        "4 Valor minimo\n",
        "\n",
        "Pandas tambien pueden eliminar filas que no0 son relevantes o que contienen errores,como valore vacios. Esto se llama limpieza de datos.\n",
        "Instalacion de pandas.\n",
        "Si tienes python e, pip instalalo usando el siguiente comando.\n",
        "PIP INSTALL PANDAS\n",
        "Si este comando falla utiliza una distribucion de python que ya tenga pangas instalados.\n",
        "\n",
        "Importar pandas una vez instalado pandas importalo a tus aplicaciones agregando la palabra clabe:IMPORT PANDAS\n",
        "\n",
        "Ahora pandas esta importado y listopara usar crea un  alias con la palabra AS al importar ahora el paquete pandas puede denominarce pd en el lugar de pandas.\n",
        "\n",
        "Comprobando la version de pandas.\n",
        "\n",
        "La cadena de la version se almacena en el atrivuto--version--.\n",
        "Ejemplo:"
      ],
      "metadata": {
        "id": "l0dpFO6MYHze"
      }
    },
    {
      "cell_type": "code",
      "source": [
        "import pandas as pd\n",
        "print(pd.__version__)\n"
      ],
      "metadata": {
        "colab": {
          "base_uri": "https://localhost:8080/"
        },
        "id": "0S53__MEb508",
        "outputId": "d73b08cd-b5de-4047-9a8d-0da7bf551bd2"
      },
      "execution_count": null,
      "outputs": [
        {
          "output_type": "stream",
          "name": "stdout",
          "text": [
            "2.2.2\n"
          ]
        }
      ]
    },
    {
      "cell_type": "markdown",
      "source": [
        "Ejercico:\n",
        "¿Cual de las siguientes 3 opciones e,la biblioteca oficial de pandas?\n",
        "1)import p 2)import pandas 3)import pan\n",
        "\n",
        "Panda Serie\n",
        "¿Que es una serier?\n",
        "Una serie en pandas es una columna en una tabla.\n",
        "Es una matriz unidimencional que contiene datos de cualquier tipo.\n",
        "\n",
        "Ejemplo:"
      ],
      "metadata": {
        "id": "8iNXD58BcAUL"
      }
    },
    {
      "cell_type": "code",
      "source": [
        "import pandas as pd\n",
        "a = [1, 7, 2]\n",
        "myvar = pd.Series(a)\n",
        "print(myvar)\n",
        "\n"
      ],
      "metadata": {
        "colab": {
          "base_uri": "https://localhost:8080/"
        },
        "id": "huIdVOaFZkkd",
        "outputId": "30ae7361-d6c9-4aa1-c0b7-f3b399d16bea"
      },
      "execution_count": null,
      "outputs": [
        {
          "output_type": "stream",
          "name": "stdout",
          "text": [
            "0    1\n",
            "1    7\n",
            "2    2\n",
            "dtype: int64\n"
          ]
        }
      ]
    },
    {
      "cell_type": "markdown",
      "source": [
        "Etiquetalas\n",
        "Si no se espesifica nadamas,los valores se etiquetan con su numero de indice el primer valor tiene el indice 0,el segundo tiene el indice 1,etc.\n",
        "Esta etiqueta se puede utilizar para acceder para un valor especifico.\n",
        "\n",
        "Ejemplo Devuelve el primer valor de la serie.\n",
        "\n",
        "Crear etiqueta.\n",
        "Con el argumento INDEX,poder nombrar nuestrapropia etiquetas ,ejemplo con tus propias etiquetas"
      ],
      "metadata": {
        "id": "9vtuckezaGuc"
      }
    },
    {
      "cell_type": "code",
      "source": [
        "import pandas as pd\n",
        "\n",
        "data = [1,7,2]\n",
        "myvar = pd.Series(data, index=[\"1\", \"2\", \"3\"])\n",
        "print(myvar)\n"
      ],
      "metadata": {
        "colab": {
          "base_uri": "https://localhost:8080/"
        },
        "id": "K-sIVcfndDpD",
        "outputId": "0741b391-6d60-4e33-c916-2734a1752d9d"
      },
      "execution_count": null,
      "outputs": [
        {
          "output_type": "stream",
          "name": "stdout",
          "text": [
            "1    1\n",
            "2    7\n",
            "3    2\n",
            "dtype: int64\n"
          ]
        }
      ]
    },
    {
      "cell_type": "markdown",
      "source": [
        "Cuando hayamos creado etiquetas podemos acceder a un elemento haciendo referencia a su etiqueta.Ejemoli devuelve el valor de y\n",
        "print(mayvas[\"Y\"])\n",
        "\n",
        "Objetos clave valor clave/Valor como serie.\n",
        "\n",
        "Tambien podemos utilizar un objeto clave/valor como un diccionario, al crear una serie.\n",
        "Ejemplo:Crea una serie pandas basica a partir de un diccionario."
      ],
      "metadata": {
        "id": "ao0_N-Lwe6xz"
      }
    },
    {
      "cell_type": "code",
      "source": [
        "import pandas as pd\n",
        "calorias={\"dia 1\":420,\"dia 2\":380,\"dia 3\":390}\n",
        "myvar=pd.Series(calorias,index=[\"dia 1\",\"dia 2\"])\n",
        "print(myvar)"
      ],
      "metadata": {
        "colab": {
          "base_uri": "https://localhost:8080/"
        },
        "id": "VHkWMeInhtoq",
        "outputId": "6173d357-6ab4-4179-c6dc-91094fc378d8"
      },
      "execution_count": 19,
      "outputs": [
        {
          "output_type": "stream",
          "name": "stdout",
          "text": [
            "dia 1    420\n",
            "dia 2    380\n",
            "dtype: int64\n"
          ]
        }
      ]
    },
    {
      "cell_type": "markdown",
      "source": [
        "Marco de datos\n",
        "Los conjuntos de datos en pandas suelen ser tablas miltidimencionales.\n",
        "La serie es como una columna ,un data frame es toda la tabla.\n",
        "Ejemplo\n",
        "Crea un data frame apartir de 2 series"
      ],
      "metadata": {
        "id": "bgC0Jqcwlo61"
      }
    },
    {
      "cell_type": "code",
      "source": [
        "import pandas as pd\n",
        "data={\n",
        "    \"calorias\":[420,380,390],\n",
        "    \"duracion\":[50,40,45]\n",
        "    }\n",
        "myvar=pd.DataFrame(data)\n",
        "print(myvar)"
      ],
      "metadata": {
        "colab": {
          "base_uri": "https://localhost:8080/"
        },
        "id": "8XHoQdoRmZl0",
        "outputId": "48351d41-9853-4d66-98fb-0642501e924e"
      },
      "execution_count": 25,
      "outputs": [
        {
          "output_type": "stream",
          "name": "stdout",
          "text": [
            "   calorias  duracion\n",
            "0       420        50\n",
            "1       380        40\n",
            "2       390        45\n"
          ]
        }
      ]
    },
    {
      "cell_type": "markdown",
      "source": [
        "¿Una serie es como un renglon en una tabla?\n",
        "Falso es como una columna"
      ],
      "metadata": {
        "id": "TBF8oWW7npuV"
      }
    }
  ]
}
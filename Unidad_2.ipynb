{
  "nbformat": 4,
  "nbformat_minor": 0,
  "metadata": {
    "colab": {
      "provenance": [],
      "authorship_tag": "ABX9TyMwG+i1rCcbM51BA1InFM4U",
      "include_colab_link": true
    },
    "kernelspec": {
      "name": "python3",
      "display_name": "Python 3"
    },
    "language_info": {
      "name": "python"
    }
  },
  "cells": [
    {
      "cell_type": "markdown",
      "metadata": {
        "id": "view-in-github",
        "colab_type": "text"
      },
      "source": [
        "<a href=\"https://colab.research.google.com/github/Jose-Angel009/Unidad-2/blob/main/Unidad_2.ipynb\" target=\"_parent\"><img src=\"https://colab.research.google.com/assets/colab-badge.svg\" alt=\"Open In Colab\"/></a>"
      ]
    },
    {
      "cell_type": "markdown",
      "source": [
        "Jose Angel Velazquez Ortiz -Practica 2 de Pandas\n",
        "7 de octubre de 2025\n",
        "--------------------------------\n",
        "DataFrames de Pandas\n",
        "--------------------------------\n",
        "Un DataFrame es una estructura de datos bidimencionales\n",
        "como una matriz o tabla con fila y columnas\n",
        "-------------------------------------\n",
        "Ejemplo:Crea una DataFrame basico:\n",
        "------------------------------------"
      ],
      "metadata": {
        "id": "Mh3Z-D8k2VBz"
      }
    },
    {
      "cell_type": "code",
      "execution_count": 2,
      "metadata": {
        "colab": {
          "base_uri": "https://localhost:8080/"
        },
        "id": "yMgSbD012T1t",
        "outputId": "73be1d2b-2a13-421d-8e78-73c59f6f0491"
      },
      "outputs": [
        {
          "output_type": "stream",
          "name": "stdout",
          "text": [
            "   calorias  duracion\n",
            "0       420        50\n",
            "1       380        40\n",
            "2       390        45\n"
          ]
        }
      ],
      "source": [
        "import pandas as pd\n",
        "\n",
        "datos={\n",
        "    \"calorias\": [420, 380, 390],\n",
        "    \"duracion\": [50, 40, 45]\n",
        "}\n",
        "#cargar datos dentro del DATAFRAME\n",
        "dataframe=pd.DataFrame(datos)\n",
        "print(dataframe)"
      ]
    },
    {
      "cell_type": "markdown",
      "source": [
        "Localizar filas\n",
        "----------------\n",
        "Como puedes ver el dataframe es como una tablaq con filas y columnas.\n",
        "Pandas usa el atributo\"loc\"para devulver 1 o mas filas en especificas\n",
        "----------------------\n",
        "ejemplo: Devuelve la fila 0"
      ],
      "metadata": {
        "id": "rsUpWBGh7F6Y"
      }
    },
    {
      "cell_type": "code",
      "source": [
        "import pandas as pd\n",
        "\n",
        "datos={\n",
        "    \"calorias\": [420, 380, 390],\n",
        "    \"duracion\": [50, 40, 45]\n",
        "}\n",
        "#cargar datos dentro del DATAFRAME\n",
        "dataframe=pd.DataFrame(datos)\n",
        "print(dataframe.loc[0])"
      ],
      "metadata": {
        "colab": {
          "base_uri": "https://localhost:8080/"
        },
        "id": "xxtvhneM7Bmh",
        "outputId": "80d405ca-f844-4e78-bd2a-403bdb80f7a5"
      },
      "execution_count": 14,
      "outputs": [
        {
          "output_type": "stream",
          "name": "stdout",
          "text": [
            "calorias    420\n",
            "duracion     50\n",
            "Name: 0, dtype: int64\n"
          ]
        }
      ]
    },
    {
      "cell_type": "markdown",
      "source": [
        "Ejemplo: Devuelve las fila o y 1"
      ],
      "metadata": {
        "id": "39xmVKd09rML"
      }
    },
    {
      "cell_type": "code",
      "source": [
        "import pandas as pd\n",
        "\n",
        "datos={\n",
        "    \"calorias\": [420, 380, 390],\n",
        "    \"duracion\": [50, 40, 45]\n",
        "}\n",
        "#cargar datos dentro del DATAFRAME\n",
        "dataframe=pd.DataFrame(datos)\n",
        "print(dataframe.loc[[0,1]])"
      ],
      "metadata": {
        "colab": {
          "base_uri": "https://localhost:8080/"
        },
        "id": "nktpCJew9xKS",
        "outputId": "5768c9be-96f7-4f22-eabc-aa1ddcb96d79"
      },
      "execution_count": 5,
      "outputs": [
        {
          "output_type": "stream",
          "name": "stdout",
          "text": [
            "   calorias  duracion\n",
            "0       420        50\n",
            "1       380        40\n"
          ]
        }
      ]
    },
    {
      "cell_type": "markdown",
      "source": [
        "Index nombrados\n",
        "-----------------\n",
        "Con el argumento \"index\",puedes nombrar tus propios indices o etiquetas.\n",
        "Ejemplo:Agrega una lista de nombres para darle una etiqueta a cada fila"
      ],
      "metadata": {
        "id": "egsWP3r_-ugZ"
      }
    },
    {
      "cell_type": "code",
      "source": [
        "import pandas as pd\n",
        "\n",
        "datos={\n",
        "    \"calorias\": [420, 380, 390],\n",
        "    \"duracion\": [50, 40, 45]\n",
        "}\n",
        "#cargar datos dentro del DATAFRAME\n",
        "dataframe=pd.DataFrame(datos, index=[\"dia-1\",\"dia-2\",\"dia-3\"])\n",
        "print(dataframe)"
      ],
      "metadata": {
        "colab": {
          "base_uri": "https://localhost:8080/"
        },
        "id": "Oq9oLjrx_L6L",
        "outputId": "b8dc3b27-1ac8-4ca8-e9a6-3a397e1b98da"
      },
      "execution_count": 6,
      "outputs": [
        {
          "output_type": "stream",
          "name": "stdout",
          "text": [
            "       calorias  duracion\n",
            "dia-1       420        50\n",
            "dia-2       380        40\n",
            "dia-3       390        45\n"
          ]
        }
      ]
    },
    {
      "cell_type": "markdown",
      "source": [
        "Localizar indices por el nombre o etiqueta\n",
        "Utilice el atributo \"loc\" para devulver las filas especificas\n",
        "---------------------------------------------\n",
        "Ejemplo: Devuelve la fila 2\n",
        "---------------------------------------------"
      ],
      "metadata": {
        "id": "MQi7TaJR_qVm"
      }
    },
    {
      "cell_type": "code",
      "source": [
        "import pandas as pd\n",
        "\n",
        "datos={\n",
        "    \"calorias\": [420, 380, 390],\n",
        "    \"duracion\": [50, 40, 45]\n",
        "}\n",
        "#cargar datos dentro del DATAFRAME\n",
        "dataframe=pd.DataFrame(datos, index=[\"dia-1\",\"dia-2\",\"dia-3\"])\n",
        "print(dataframe.loc[\"dia-2\"])"
      ],
      "metadata": {
        "colab": {
          "base_uri": "https://localhost:8080/"
        },
        "id": "wbUSQmhGAAvs",
        "outputId": "af880bf3-971f-4c4f-ae48-828f6b7cf3f4"
      },
      "execution_count": 11,
      "outputs": [
        {
          "output_type": "stream",
          "name": "stdout",
          "text": [
            "calorias    380\n",
            "duracion     40\n",
            "Name: dia-2, dtype: int64\n"
          ]
        }
      ]
    }
  ]
}